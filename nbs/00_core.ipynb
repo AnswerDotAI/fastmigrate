{
 "cells": [
  {
   "cell_type": "markdown",
   "metadata": {},
   "source": [
    "# core\n",
    "\n",
    "> Implements all core logic of fastmigrate"
   ]
  },
  {
   "cell_type": "code",
   "execution_count": 5,
   "metadata": {},
   "outputs": [],
   "source": [
    "#| default_exp core"
   ]
  },
  {
   "cell_type": "markdown",
   "metadata": {},
   "source": [
    "## fastmigrate\n",
    "\n",
    "The fastmigrate library helps you with structured migration of data in sqlite. That is, it gives you a way to change the schema of your database, while preserving user data.\n",
    "\n",
    "Here's how it works for a user.\n",
    "\n",
    "In a directory containing a `.fastmigrate` file (which will generally be the project root), the user calls `fastmigrate`. By default, this will look off the current directory for a migrations subdirectory called `migrations` and a database in `data/database.db`. These values can also be overriden by CLI arguments or by values set in the `.fastmigrate` configuration file, which is in ini format.\n",
    "\n",
    "It will then detect every validly-named file in the migrations directory, select the ones with version numbers greater than the current db version number, and apply the files in alphabetical order, updating the db's version number as it proceeds, stopping if any migration fails.\n",
    "\n",
    "Key concepts:\n",
    "\n",
    "- the **version number** of a database:\n",
    "  - this is an `int` value stored in a table `_meta` in a field called `version`. This table will be enforced to have exactly one row. This value will be the \"db version value\" of the last migration script which was run on that database.\n",
    "  \n",
    "- the **migrations directory** is a directory which contains only migration scripts.\n",
    "\n",
    "- a **migration script** must be a:\n",
    "  - a file which conform to the \"FastMigrate naming rule\"\n",
    "  - one of the following:\n",
    "     - a .py or .sh file. In this case, fastmigrate will execute the file, pass the path to the db as the first positional argument. Fastmigrate will interpret a non-zero exit code as failure.\n",
    "     - a .sql file. In this case, fastmigrate will call something like \"sqlite3 path/to/data.db < file.sql\". \n",
    "  \n",
    "- the **FM naming rule** is that every migration script must have a name matching this pattern: `[index]-[description].[fileExtension]`, where `[index]` must be a string representing 4-digit integer. This naming convention defines the order in which scripts should be run.\n",
    "\n",
    "- **attempting a migration** is:\n",
    "  - determining the current version of a database\n",
    "  - determining if there are any migration scripts with versions higher than the db version\n",
    "  - trying to run those scripts\n"
   ]
  },
  {
   "cell_type": "markdown",
   "metadata": {},
   "source": []
  },
  {
   "cell_type": "markdown",
   "metadata": {},
   "source": [
    "### Deps: The mini data api spec\n",
    "\n",
    "This API defines available operations on a database, via fastlite, courtesy of the mini data spec:\n",
    "\n",
    "```\n",
    "db.create\n",
    "t.insert\n",
    "t.delete\n",
    "t.update\n",
    "t[key]\n",
    "t(...)\n",
    "t.xtra)\n",
    "```\n"
   ]
  },
  {
   "cell_type": "markdown",
   "metadata": {},
   "source": [
    "### Dep: fractionalindex\n",
    "\n",
    "`fastmigrate` manages and runs _migration scripts_. In particular fastmigrate needs to be able:\n",
    "\n",
    "- to collect all well-formed scripts in the _migrations directory_\n",
    "- to filter to only those scripts whose FI value is greater than the DB's value.\n",
    "- to iterate those scripts in FI-order, executing them\n",
    "\n",
    "To do all this, fastmigrate relies on the [fractionalindex](https://github.com/AnswerDotAI/fractionalindex) library.\n",
    "\n",
    "The `fractionalindex` library allows you to specify the filename-to-version rule, by specifying a `name_to_key` mapping function, and a directory containing the files. Then, it provides a `FileIndexer`, provides lets you iterate over files in FI order."
   ]
  },
  {
   "cell_type": "code",
   "execution_count": 7,
   "metadata": {},
   "outputs": [
    {
     "ename": "ImportError",
     "evalue": "cannot import name 'FileAccessor' from 'fractionalindex' (/Users/alexis/git/fractionalindex/fractionalindex/__init__.py)",
     "output_type": "error",
     "traceback": [
      "\u001b[0;31m---------------------------------------------------------------------------\u001b[0m",
      "\u001b[0;31mImportError\u001b[0m                               Traceback (most recent call last)",
      "Cell \u001b[0;32mIn[7], line 1\u001b[0m\n\u001b[0;32m----> 1\u001b[0m \u001b[38;5;28;01mfrom\u001b[39;00m \u001b[38;5;21;01mfractionalindex\u001b[39;00m \u001b[38;5;28;01mimport\u001b[39;00m FileIndexer, FileAccessor\n",
      "\u001b[0;31mImportError\u001b[0m: cannot import name 'FileAccessor' from 'fractionalindex' (/Users/alexis/git/fractionalindex/fractionalindex/__init__.py)"
     ]
    }
   ],
   "source": [
    "from fractionalindex import FileIndexer, FileAccessor"
   ]
  },
  {
   "cell_type": "code",
   "execution_count": null,
   "metadata": {},
   "outputs": [],
   "source": []
  },
  {
   "cell_type": "code",
   "execution_count": null,
   "metadata": {},
   "outputs": [],
   "source": [
    "#| hide\n",
    "from nbdev.showdoc import *"
   ]
  },
  {
   "cell_type": "code",
   "execution_count": null,
   "metadata": {},
   "outputs": [],
   "source": [
    "#| export\n",
    "def foo(): pass"
   ]
  },
  {
   "cell_type": "code",
   "execution_count": null,
   "metadata": {},
   "outputs": [],
   "source": [
    "#| hide\n",
    "import nbdev; nbdev.nbdev_export()"
   ]
  }
 ],
 "metadata": {
  "kernelspec": {
   "display_name": "Python 3 (ipykernel)",
   "language": "python",
   "name": "python3"
  },
  "language_info": {
   "codemirror_mode": {
    "name": "ipython",
    "version": 3
   },
   "file_extension": ".py",
   "mimetype": "text/x-python",
   "name": "python",
   "nbconvert_exporter": "python",
   "pygments_lexer": "ipython3",
   "version": "3.12.9"
  }
 },
 "nbformat": 4,
 "nbformat_minor": 4
}
